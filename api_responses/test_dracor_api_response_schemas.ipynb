{
 "cells": [
  {
   "cell_type": "code",
   "execution_count": 1,
   "id": "4f581626",
   "metadata": {},
   "outputs": [],
   "source": [
    "import requests\n",
    "import json"
   ]
  },
  {
   "cell_type": "code",
   "execution_count": 2,
   "id": "c4a38523",
   "metadata": {},
   "outputs": [],
   "source": [
    "import logging\n",
    "logging.basicConfig(level=logging.INFO)"
   ]
  },
  {
   "cell_type": "code",
   "execution_count": 3,
   "id": "6b6a8eaf",
   "metadata": {},
   "outputs": [],
   "source": [
    "# Generic Function to send GET requests to DraCor API\n",
    "\n",
    "#corpusname:str -> []\n",
    "def get(**kwargs):\n",
    "    #corpusname=corpusname\n",
    "    #playname=playname\n",
    "    #apibase=\"https://dracor.org/api/\"\n",
    "    #method=method\n",
    "    #parse_json: True\n",
    "    \n",
    "    #could set different apibase, e.g. https://staging.dracor.org/api/ [not recommended, pls use the production server]\n",
    "    if \"apibase\" in kwargs:\n",
    "        if kwargs[\"apibase\"].endswith(\"/\"):\n",
    "            apibase = kwargs[\"apibase\"]\n",
    "        else:\n",
    "            apibase = kwargs[\"apibase\"] + \"/\"\n",
    "    else:\n",
    "        #use local API per default\n",
    "        apibase = \"http://dracor.org/api/\"\n",
    "    if \"corpusname\" in kwargs and \"playname\" in kwargs:\n",
    "        # used for /api/corpora/{corpusname}/play/{playname}/\n",
    "        if \"method\" in kwargs:\n",
    "            request_url = apibase + \"corpora/\" + kwargs[\"corpusname\"] + \"/play/\" + kwargs[\"playname\"] + \"/\" + kwargs[\"method\"]\n",
    "        else:\n",
    "            request_url = apibase + \"corpora/\" + kwargs[\"corpusname\"] + \"/play/\" + kwargs[\"playname\"]\n",
    "    elif \"corpusname\" in kwargs and not \"playname\" in kwargs:\n",
    "        if \"method\" in kwargs:\n",
    "            request_url = apibase + \"corpora/\" + kwargs[\"corpusname\"] + \"/\" + kwargs[\"method\"]\n",
    "        else:\n",
    "            request_url = apibase + \"corpora/\" + kwargs[\"corpusname\"] \n",
    "    elif \"method\" in kwargs and not \"corpusname\" in kwargs and not \"playname\" in kwargs:\n",
    "            request_url = apibase + kwargs[\"method\"]\n",
    "            \n",
    "    else: \n",
    "        #nothing set\n",
    "        request = request_url = apibase + \"info\"\n",
    "    \n",
    "    #send the response\n",
    "    r = requests.get(request_url)\n",
    "    if r.status_code == 200:\n",
    "        #success!\n",
    "        if \"parse_json\" in kwargs:\n",
    "            if kwargs[\"parse_json\"] == True:\n",
    "                json_data = json.loads(r.text)\n",
    "                return json_data\n",
    "            else:\n",
    "                return r.text\n",
    "        else:\n",
    "            return r.text\n",
    "    else:\n",
    "        raise Exception(\"Request was not successful. Server returned status code: \"  + str(r.status_code))"
   ]
  },
  {
   "cell_type": "code",
   "execution_count": 4,
   "id": "7eedaae4",
   "metadata": {},
   "outputs": [],
   "source": [
    "from dracor_api_response_schemas import is_valid"
   ]
  },
  {
   "cell_type": "markdown",
   "id": "9dcf6412",
   "metadata": {},
   "source": [
    "## /info"
   ]
  },
  {
   "cell_type": "code",
   "execution_count": 5,
   "id": "4949bcf5",
   "metadata": {},
   "outputs": [],
   "source": [
    "from dracor_api_response_schemas import InfoSchema"
   ]
  },
  {
   "cell_type": "code",
   "execution_count": 6,
   "id": "c1e3bbe5",
   "metadata": {},
   "outputs": [],
   "source": [
    "info_response = get(method=\"info\",parse_json=True)"
   ]
  },
  {
   "cell_type": "code",
   "execution_count": 7,
   "id": "f32271ec",
   "metadata": {},
   "outputs": [
    {
     "data": {
      "text/plain": [
       "{'name': 'DraCor API',\n",
       " 'version': '0.89.0',\n",
       " 'status': 'beta',\n",
       " 'existdb': '6.0.1'}"
      ]
     },
     "execution_count": 7,
     "metadata": {},
     "output_type": "execute_result"
    }
   ],
   "source": [
    "info_response"
   ]
  },
  {
   "cell_type": "code",
   "execution_count": 8,
   "id": "36e46eb5",
   "metadata": {},
   "outputs": [
    {
     "name": "stderr",
     "output_type": "stream",
     "text": [
      "INFO:root:Validation passed.\n"
     ]
    },
    {
     "data": {
      "text/plain": [
       "True"
      ]
     },
     "execution_count": 8,
     "metadata": {},
     "output_type": "execute_result"
    }
   ],
   "source": [
    "# Validate against the schema\n",
    "# In case of an validation Error (returned value is False), set the flag \"catch_error=False\", which will return the \n",
    "# message from the exception\n",
    "is_valid(info_response, InfoSchema)"
   ]
  },
  {
   "cell_type": "markdown",
   "id": "d648f339",
   "metadata": {},
   "source": [
    "## /corpora"
   ]
  },
  {
   "cell_type": "code",
   "execution_count": 9,
   "id": "c574ecf6",
   "metadata": {},
   "outputs": [],
   "source": [
    "from dracor_api_response_schemas import CorpusInCorporaSchema"
   ]
  },
  {
   "cell_type": "code",
   "execution_count": 10,
   "id": "bf6d7ac9",
   "metadata": {},
   "outputs": [],
   "source": [
    "corpora_response_no_metrics = get(method=\"corpora\", parse_json=True)"
   ]
  },
  {
   "cell_type": "code",
   "execution_count": 11,
   "id": "7ae06e58",
   "metadata": {},
   "outputs": [
    {
     "name": "stderr",
     "output_type": "stream",
     "text": [
      "INFO:root:Validation passed.\n",
      "INFO:root:Validation passed.\n",
      "INFO:root:Validation passed.\n",
      "INFO:root:Validation passed.\n",
      "INFO:root:Validation passed.\n",
      "INFO:root:Validation passed.\n",
      "INFO:root:Validation passed.\n",
      "INFO:root:Validation passed.\n",
      "INFO:root:Validation passed.\n",
      "INFO:root:Validation passed.\n",
      "INFO:root:Validation passed.\n",
      "INFO:root:Validation passed.\n",
      "INFO:root:Validation passed.\n",
      "INFO:root:Validation passed.\n",
      "INFO:root:Validation passed.\n"
     ]
    },
    {
     "name": "stdout",
     "output_type": "stream",
     "text": [
      "Validation of /corpora without metrics included:\n",
      "Data of corpus Alsatian Drama Corpus passed validation.\n",
      "Data of corpus Bashkir Drama Corpus passed validation.\n",
      "Data of corpus Calderón Drama Corpus passed validation.\n",
      "Data of corpus French Drama Corpus passed validation.\n",
      "Data of corpus German Drama Corpus passed validation.\n",
      "Data of corpus German Shakespeare Drama Corpus passed validation.\n",
      "Data of corpus Greek Drama Corpus passed validation.\n",
      "Data of corpus Hungarian Drama Corpus passed validation.\n",
      "Data of corpus Italian Drama Corpus passed validation.\n",
      "Data of corpus Roman Drama Corpus passed validation.\n",
      "Data of corpus Russian Drama Corpus passed validation.\n",
      "Data of corpus Shakespeare Drama Corpus passed validation.\n",
      "Data of corpus Spanish Drama Corpus passed validation.\n",
      "Data of corpus Swedish Drama Corpus passed validation.\n",
      "Data of corpus Tatar Drama Corpus passed validation.\n"
     ]
    }
   ],
   "source": [
    "print(\"Validation of /corpora without metrics included:\")\n",
    "for corpus in corpora_response_no_metrics:\n",
    "    if is_valid(corpus, CorpusInCorporaSchema):\n",
    "        print(\"Data of corpus \" + corpus[\"title\"] + \" passed validation.\")\n",
    "    else:\n",
    "        print (\"ERROR \" + corpus[\"title\"])"
   ]
  },
  {
   "cell_type": "code",
   "execution_count": 12,
   "id": "32f7f22d",
   "metadata": {},
   "outputs": [],
   "source": [
    "corpora_response_incl_metrics = get(method=\"corpora?include=metrics\", parse_json=True)"
   ]
  },
  {
   "cell_type": "code",
   "execution_count": 13,
   "id": "e70effa7",
   "metadata": {},
   "outputs": [
    {
     "name": "stderr",
     "output_type": "stream",
     "text": [
      "INFO:root:Validation passed.\n",
      "INFO:root:Validation passed.\n",
      "INFO:root:Validation passed.\n",
      "INFO:root:Validation passed.\n",
      "INFO:root:Validation passed.\n",
      "INFO:root:Validation passed.\n",
      "INFO:root:Validation passed.\n",
      "INFO:root:Validation passed.\n",
      "INFO:root:Validation passed.\n",
      "INFO:root:Validation passed.\n",
      "INFO:root:Validation passed.\n",
      "INFO:root:Validation passed.\n",
      "INFO:root:Validation passed.\n",
      "INFO:root:Validation passed.\n",
      "INFO:root:Validation passed.\n"
     ]
    },
    {
     "name": "stdout",
     "output_type": "stream",
     "text": [
      "Validation of /corpora with metrics included:\n",
      "Data of corpus Alsatian Drama Corpus passed validation.\n",
      "Data of corpus Bashkir Drama Corpus passed validation.\n",
      "Data of corpus Calderón Drama Corpus passed validation.\n",
      "Data of corpus French Drama Corpus passed validation.\n",
      "Data of corpus German Drama Corpus passed validation.\n",
      "Data of corpus German Shakespeare Drama Corpus passed validation.\n",
      "Data of corpus Greek Drama Corpus passed validation.\n",
      "Data of corpus Hungarian Drama Corpus passed validation.\n",
      "Data of corpus Italian Drama Corpus passed validation.\n",
      "Data of corpus Roman Drama Corpus passed validation.\n",
      "Data of corpus Russian Drama Corpus passed validation.\n",
      "Data of corpus Shakespeare Drama Corpus passed validation.\n",
      "Data of corpus Spanish Drama Corpus passed validation.\n",
      "Data of corpus Swedish Drama Corpus passed validation.\n",
      "Data of corpus Tatar Drama Corpus passed validation.\n"
     ]
    }
   ],
   "source": [
    "print(\"Validation of /corpora with metrics included:\")\n",
    "for corpus in corpora_response_incl_metrics:\n",
    "    if is_valid(corpus, CorpusInCorporaSchema):\n",
    "        print(\"Data of corpus \" + corpus[\"title\"] + \" passed validation.\")\n",
    "    else:\n",
    "        print (\"ERROR \" + corpus[\"title\"])"
   ]
  },
  {
   "cell_type": "markdown",
   "id": "300a6e53",
   "metadata": {},
   "source": [
    "## /corpora/{corpusname} "
   ]
  },
  {
   "cell_type": "code",
   "execution_count": 14,
   "id": "1847332c",
   "metadata": {},
   "outputs": [],
   "source": [
    "from dracor_api_response_schemas import CorpusSchema"
   ]
  },
  {
   "cell_type": "code",
   "execution_count": 15,
   "id": "d66f855f",
   "metadata": {},
   "outputs": [],
   "source": [
    "corpus_response = get(corpusname=\"ger\", parse_json=True)"
   ]
  },
  {
   "cell_type": "code",
   "execution_count": 16,
   "id": "c7df4f21",
   "metadata": {},
   "outputs": [],
   "source": [
    "#corpus_response"
   ]
  },
  {
   "cell_type": "code",
   "execution_count": 17,
   "id": "9c84084b",
   "metadata": {},
   "outputs": [
    {
     "name": "stderr",
     "output_type": "stream",
     "text": [
      "INFO:root:Validation passed.\n"
     ]
    },
    {
     "data": {
      "text/plain": [
       "True"
      ]
     },
     "execution_count": 17,
     "metadata": {},
     "output_type": "execute_result"
    }
   ],
   "source": [
    "# is_valid(corpus_response, CorpusSchema, catch_error=False)\n",
    "is_valid(corpus_response, CorpusSchema)"
   ]
  },
  {
   "cell_type": "code",
   "execution_count": 18,
   "id": "0b5e94a7",
   "metadata": {},
   "outputs": [],
   "source": [
    "#Validate all\n",
    "corpusnames = []\n",
    "for item in corpora_response_no_metrics:\n",
    "    corpusnames.append(item[\"name\"])"
   ]
  },
  {
   "cell_type": "code",
   "execution_count": 19,
   "id": "56629903",
   "metadata": {},
   "outputs": [
    {
     "data": {
      "text/plain": [
       "['als',\n",
       " 'bash',\n",
       " 'cal',\n",
       " 'fre',\n",
       " 'ger',\n",
       " 'gersh',\n",
       " 'greek',\n",
       " 'hun',\n",
       " 'ita',\n",
       " 'rom',\n",
       " 'rus',\n",
       " 'shake',\n",
       " 'span',\n",
       " 'swe',\n",
       " 'tat']"
      ]
     },
     "execution_count": 19,
     "metadata": {},
     "output_type": "execute_result"
    }
   ],
   "source": [
    "corpusnames"
   ]
  },
  {
   "cell_type": "code",
   "execution_count": 20,
   "id": "129d7815",
   "metadata": {},
   "outputs": [
    {
     "name": "stdout",
     "output_type": "stream",
     "text": [
      "Validating als.\n",
      "Validating bash.\n",
      "Validating cal.\n",
      "Validating fre.\n",
      "Validating ger.\n",
      "Validating gersh.\n",
      "Validating greek.\n",
      "Validating hun.\n",
      "Validating ita.\n",
      "Validating rom.\n",
      "Validating rus.\n",
      "Validating shake.\n",
      "Validating span.\n",
      "Validating swe.\n",
      "Validating tat.\n"
     ]
    }
   ],
   "source": [
    "for corpusname in corpusnames:\n",
    "    corpus_response = get(corpusname=corpusname, parse_json=True)\n",
    "    print(f\"Validating {corpusname}.\")\n",
    "    is_valid(corpus_response, CorpusSchema, catch_error=False)"
   ]
  },
  {
   "cell_type": "code",
   "execution_count": null,
   "id": "49cc57b7",
   "metadata": {},
   "outputs": [],
   "source": []
  }
 ],
 "metadata": {
  "kernelspec": {
   "display_name": "Python 3 (ipykernel)",
   "language": "python",
   "name": "python3"
  },
  "language_info": {
   "codemirror_mode": {
    "name": "ipython",
    "version": 3
   },
   "file_extension": ".py",
   "mimetype": "text/x-python",
   "name": "python",
   "nbconvert_exporter": "python",
   "pygments_lexer": "ipython3",
   "version": "3.9.12"
  }
 },
 "nbformat": 4,
 "nbformat_minor": 5
}
