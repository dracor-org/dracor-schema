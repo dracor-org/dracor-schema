{
 "cells": [
  {
   "cell_type": "code",
   "execution_count": 1,
   "id": "ea296af6",
   "metadata": {},
   "outputs": [],
   "source": [
    "import requests\n",
    "import json"
   ]
  },
  {
   "cell_type": "code",
   "execution_count": 2,
   "id": "6cfca4c2",
   "metadata": {},
   "outputs": [],
   "source": [
    "import logging\n",
    "logging.basicConfig(level=logging.INFO)"
   ]
  },
  {
   "cell_type": "code",
   "execution_count": 3,
   "id": "7d98beb7",
   "metadata": {},
   "outputs": [],
   "source": [
    "# Generic Function to send GET requests to DraCor API\n",
    "\n",
    "#corpusname:str -> []\n",
    "def get(**kwargs):\n",
    "    #corpusname=corpusname\n",
    "    #playname=playname\n",
    "    #apibase=\"https://dracor.org/api/\"\n",
    "    #method=method\n",
    "    #parse_json: True\n",
    "    \n",
    "    #could set different apibase, e.g. https://staging.dracor.org/api/ [not recommended, pls use the production server]\n",
    "    if \"apibase\" in kwargs:\n",
    "        if kwargs[\"apibase\"].endswith(\"/\"):\n",
    "            apibase = kwargs[\"apibase\"]\n",
    "        else:\n",
    "            apibase = kwargs[\"apibase\"] + \"/\"\n",
    "    else:\n",
    "        #use local API per default\n",
    "        apibase = \"http://dracor.org/api/\"\n",
    "    if \"corpusname\" in kwargs and \"playname\" in kwargs:\n",
    "        # used for /api/corpora/{corpusname}/play/{playname}/\n",
    "        if \"method\" in kwargs:\n",
    "            request_url = apibase + \"corpora/\" + kwargs[\"corpusname\"] + \"/play/\" + kwargs[\"playname\"] + \"/\" + kwargs[\"method\"]\n",
    "        else:\n",
    "            request_url = apibase + \"corpora/\" + kwargs[\"corpusname\"] + \"/play/\" + kwargs[\"playname\"]\n",
    "    elif \"corpusname\" in kwargs and not \"playname\" in kwargs:\n",
    "        if \"method\" in kwargs:\n",
    "            request_url = apibase + \"corpora/\" + kwargs[\"corpusname\"] + \"/\" + kwargs[\"method\"]\n",
    "        else:\n",
    "            request_url = apibase + \"corpora/\" + kwargs[\"corpusname\"] \n",
    "    elif \"method\" in kwargs and not \"corpusname\" in kwargs and not \"playname\" in kwargs:\n",
    "            request_url = apibase + kwargs[\"method\"]\n",
    "            \n",
    "    else: \n",
    "        #nothing set\n",
    "        request = request_url = apibase + \"info\"\n",
    "    \n",
    "    #send the response\n",
    "    r = requests.get(request_url)\n",
    "    if r.status_code == 200:\n",
    "        #success!\n",
    "        if \"parse_json\" in kwargs:\n",
    "            if kwargs[\"parse_json\"] == True:\n",
    "                json_data = json.loads(r.text)\n",
    "                return json_data\n",
    "            else:\n",
    "                return r.text\n",
    "        else:\n",
    "            return r.text\n",
    "    else:\n",
    "        raise Exception(\"Request was not successful. Server returned status code: \"  + str(r.status_code))"
   ]
  },
  {
   "cell_type": "code",
   "execution_count": 4,
   "id": "6a4d923d",
   "metadata": {},
   "outputs": [],
   "source": [
    "from dracor_api_response_schemas import is_valid"
   ]
  },
  {
   "cell_type": "markdown",
   "id": "cff2f341",
   "metadata": {},
   "source": [
    "## /info"
   ]
  },
  {
   "cell_type": "code",
   "execution_count": 5,
   "id": "25974f5b",
   "metadata": {},
   "outputs": [],
   "source": [
    "from dracor_api_response_schemas import InfoSchema"
   ]
  },
  {
   "cell_type": "code",
   "execution_count": 6,
   "id": "a14260e1",
   "metadata": {},
   "outputs": [],
   "source": [
    "info_response = get(method=\"info\",parse_json=True)"
   ]
  },
  {
   "cell_type": "code",
   "execution_count": 7,
   "id": "66172f22",
   "metadata": {},
   "outputs": [
    {
     "data": {
      "text/plain": [
       "{'name': 'DraCor API',\n",
       " 'version': '0.89.0',\n",
       " 'status': 'beta',\n",
       " 'existdb': '6.0.1'}"
      ]
     },
     "execution_count": 7,
     "metadata": {},
     "output_type": "execute_result"
    }
   ],
   "source": [
    "info_response"
   ]
  },
  {
   "cell_type": "code",
   "execution_count": 8,
   "id": "08f2c0ce",
   "metadata": {},
   "outputs": [
    {
     "name": "stderr",
     "output_type": "stream",
     "text": [
      "INFO:root:Validation passed.\n"
     ]
    },
    {
     "data": {
      "text/plain": [
       "True"
      ]
     },
     "execution_count": 8,
     "metadata": {},
     "output_type": "execute_result"
    }
   ],
   "source": [
    "# Validate against the schema\n",
    "# In case of an validation Error (returned value is False), set the flag \"catch_error=False\", which will return the \n",
    "# message from the exception\n",
    "is_valid(info_response, InfoSchema)"
   ]
  },
  {
   "cell_type": "markdown",
   "id": "87c97518",
   "metadata": {},
   "source": [
    "## /corpora"
   ]
  },
  {
   "cell_type": "code",
   "execution_count": 9,
   "id": "360b523d",
   "metadata": {},
   "outputs": [],
   "source": [
    "from dracor_api_response_schemas import CorpusInCorporaSchema"
   ]
  },
  {
   "cell_type": "code",
   "execution_count": 10,
   "id": "0ed99a43",
   "metadata": {},
   "outputs": [],
   "source": [
    "corpora_response_no_metrics = get(method=\"corpora\", parse_json=True)"
   ]
  },
  {
   "cell_type": "code",
   "execution_count": 11,
   "id": "5aa615f5",
   "metadata": {},
   "outputs": [
    {
     "name": "stderr",
     "output_type": "stream",
     "text": [
      "INFO:root:Validation passed.\n",
      "INFO:root:Validation passed.\n",
      "INFO:root:Validation passed.\n",
      "INFO:root:Validation passed.\n",
      "INFO:root:Validation passed.\n",
      "INFO:root:Validation passed.\n",
      "INFO:root:Validation passed.\n",
      "INFO:root:Validation passed.\n",
      "INFO:root:Validation passed.\n",
      "INFO:root:Validation passed.\n",
      "INFO:root:Validation passed.\n",
      "INFO:root:Validation passed.\n",
      "INFO:root:Validation passed.\n",
      "INFO:root:Validation passed.\n",
      "INFO:root:Validation passed.\n"
     ]
    },
    {
     "name": "stdout",
     "output_type": "stream",
     "text": [
      "Validation of /corpora without metrics included:\n",
      "Data of corpus Alsatian Drama Corpus passed validation.\n",
      "Data of corpus Bashkir Drama Corpus passed validation.\n",
      "Data of corpus Calderón Drama Corpus passed validation.\n",
      "Data of corpus French Drama Corpus passed validation.\n",
      "Data of corpus German Drama Corpus passed validation.\n",
      "Data of corpus German Shakespeare Drama Corpus passed validation.\n",
      "Data of corpus Greek Drama Corpus passed validation.\n",
      "Data of corpus Hungarian Drama Corpus passed validation.\n",
      "Data of corpus Italian Drama Corpus passed validation.\n",
      "Data of corpus Roman Drama Corpus passed validation.\n",
      "Data of corpus Russian Drama Corpus passed validation.\n",
      "Data of corpus Shakespeare Drama Corpus passed validation.\n",
      "Data of corpus Spanish Drama Corpus passed validation.\n",
      "Data of corpus Swedish Drama Corpus passed validation.\n",
      "Data of corpus Tatar Drama Corpus passed validation.\n"
     ]
    }
   ],
   "source": [
    "print(\"Validation of /corpora without metrics included:\")\n",
    "for corpus in corpora_response_no_metrics:\n",
    "    if is_valid(corpus, CorpusInCorporaSchema):\n",
    "        print(\"Data of corpus \" + corpus[\"title\"] + \" passed validation.\")\n",
    "    else:\n",
    "        print (\"ERROR \" + corpus[\"title\"])"
   ]
  },
  {
   "cell_type": "code",
   "execution_count": 12,
   "id": "c2758d11",
   "metadata": {},
   "outputs": [],
   "source": [
    "corpora_response_incl_metrics = get(method=\"corpora?include=metrics\", parse_json=True)"
   ]
  },
  {
   "cell_type": "code",
   "execution_count": 13,
   "id": "e21aae73",
   "metadata": {},
   "outputs": [
    {
     "name": "stderr",
     "output_type": "stream",
     "text": [
      "INFO:root:Validation passed.\n",
      "INFO:root:Validation passed.\n",
      "INFO:root:Validation passed.\n",
      "INFO:root:Validation passed.\n",
      "INFO:root:Validation passed.\n",
      "INFO:root:Validation passed.\n",
      "INFO:root:Validation passed.\n",
      "INFO:root:Validation passed.\n",
      "INFO:root:Validation passed.\n",
      "INFO:root:Validation passed.\n",
      "INFO:root:Validation passed.\n",
      "INFO:root:Validation passed.\n",
      "INFO:root:Validation passed.\n",
      "INFO:root:Validation passed.\n",
      "INFO:root:Validation passed.\n"
     ]
    },
    {
     "name": "stdout",
     "output_type": "stream",
     "text": [
      "Validation of /corpora with metrics included:\n",
      "Data of corpus Alsatian Drama Corpus passed validation.\n",
      "Data of corpus Bashkir Drama Corpus passed validation.\n",
      "Data of corpus Calderón Drama Corpus passed validation.\n",
      "Data of corpus French Drama Corpus passed validation.\n",
      "Data of corpus German Drama Corpus passed validation.\n",
      "Data of corpus German Shakespeare Drama Corpus passed validation.\n",
      "Data of corpus Greek Drama Corpus passed validation.\n",
      "Data of corpus Hungarian Drama Corpus passed validation.\n",
      "Data of corpus Italian Drama Corpus passed validation.\n",
      "Data of corpus Roman Drama Corpus passed validation.\n",
      "Data of corpus Russian Drama Corpus passed validation.\n",
      "Data of corpus Shakespeare Drama Corpus passed validation.\n",
      "Data of corpus Spanish Drama Corpus passed validation.\n",
      "Data of corpus Swedish Drama Corpus passed validation.\n",
      "Data of corpus Tatar Drama Corpus passed validation.\n"
     ]
    }
   ],
   "source": [
    "print(\"Validation of /corpora with metrics included:\")\n",
    "for corpus in corpora_response_incl_metrics:\n",
    "    if is_valid(corpus, CorpusInCorporaSchema):\n",
    "        print(\"Data of corpus \" + corpus[\"title\"] + \" passed validation.\")\n",
    "    else:\n",
    "        print (\"ERROR \" + corpus[\"title\"])"
   ]
  },
  {
   "cell_type": "markdown",
   "id": "1d38cdb3",
   "metadata": {},
   "source": [
    "## /corpora/{corpusname} "
   ]
  },
  {
   "cell_type": "code",
   "execution_count": 14,
   "id": "5c0624d8",
   "metadata": {},
   "outputs": [],
   "source": [
    "from dracor_api_response_schemas import CorpusSchema"
   ]
  },
  {
   "cell_type": "code",
   "execution_count": 15,
   "id": "9a01a7a8",
   "metadata": {},
   "outputs": [],
   "source": [
    "corpus_response = get(corpusname=\"ger\", parse_json=True)"
   ]
  },
  {
   "cell_type": "code",
   "execution_count": 16,
   "id": "ad663c19",
   "metadata": {},
   "outputs": [],
   "source": [
    "#corpus_response"
   ]
  },
  {
   "cell_type": "code",
   "execution_count": 17,
   "id": "aad26120",
   "metadata": {},
   "outputs": [
    {
     "name": "stderr",
     "output_type": "stream",
     "text": [
      "INFO:root:Validation passed.\n"
     ]
    },
    {
     "data": {
      "text/plain": [
       "True"
      ]
     },
     "execution_count": 17,
     "metadata": {},
     "output_type": "execute_result"
    }
   ],
   "source": [
    "# is_valid(corpus_response, CorpusSchema, catch_error=False)\n",
    "is_valid(corpus_response, CorpusSchema)"
   ]
  },
  {
   "cell_type": "code",
   "execution_count": 18,
   "id": "513a277a",
   "metadata": {},
   "outputs": [],
   "source": [
    "#Validate all\n",
    "corpusnames = []\n",
    "for item in corpora_response_no_metrics:\n",
    "    corpusnames.append(item[\"name\"])"
   ]
  },
  {
   "cell_type": "code",
   "execution_count": 19,
   "id": "2c881365",
   "metadata": {},
   "outputs": [
    {
     "data": {
      "text/plain": [
       "['als',\n",
       " 'bash',\n",
       " 'cal',\n",
       " 'fre',\n",
       " 'ger',\n",
       " 'gersh',\n",
       " 'greek',\n",
       " 'hun',\n",
       " 'ita',\n",
       " 'rom',\n",
       " 'rus',\n",
       " 'shake',\n",
       " 'span',\n",
       " 'swe',\n",
       " 'tat']"
      ]
     },
     "execution_count": 19,
     "metadata": {},
     "output_type": "execute_result"
    }
   ],
   "source": [
    "corpusnames"
   ]
  },
  {
   "cell_type": "markdown",
   "id": "cb59f52e",
   "metadata": {},
   "source": [
    "for corpusname in corpusnames:\n",
    "    corpus_response = get(corpusname=corpusname, parse_json=True)\n",
    "    print(f\"Validating {corpusname}.\")\n",
    "    is_valid(corpus_response, CorpusSchema, catch_error=False)"
   ]
  },
  {
   "cell_type": "markdown",
   "id": "d2891cf5",
   "metadata": {},
   "source": [
    "## /corpora/{corpusname}/metadata"
   ]
  },
  {
   "cell_type": "code",
   "execution_count": 20,
   "id": "c203f974",
   "metadata": {},
   "outputs": [],
   "source": [
    "from dracor_api_response_schemas import PlayMetadataSchema"
   ]
  },
  {
   "cell_type": "code",
   "execution_count": 21,
   "id": "e898f5d5",
   "metadata": {},
   "outputs": [],
   "source": [
    "# metadata_plays_of_corpus_response = get(method=\"metadata\",corpusname=\"ger\",parse_json=True)"
   ]
  },
  {
   "cell_type": "code",
   "execution_count": 22,
   "id": "a4ec32ff",
   "metadata": {},
   "outputs": [],
   "source": [
    "# metadata_plays_of_corpus_response[0]"
   ]
  },
  {
   "cell_type": "code",
   "execution_count": 23,
   "id": "aac76bb2",
   "metadata": {},
   "outputs": [],
   "source": [
    "#is_valid(metadata_plays_of_corpus_response[0], PlayMetadataSchema, catch_error=False)"
   ]
  },
  {
   "cell_type": "markdown",
   "id": "d1bb5f06",
   "metadata": {},
   "source": [
    "for play in metadata_plays_of_corpus_response:\n",
    "    is_valid(play, PlayMetadataSchema, catch_error=True)  "
   ]
  },
  {
   "cell_type": "markdown",
   "id": "b092d377",
   "metadata": {},
   "source": [
    "# Validate all\n",
    "for corpusname in corpusnames:\n",
    "    print(f\"Validating corpus {corpusname}.\")\n",
    "    plays_metadata = get(method=\"metadata\",corpusname=corpusname,parse_json=True)\n",
    "    \n",
    "    for play in plays_metadata:\n",
    "        print(f\"Validating {play['id']}.\")\n",
    "        is_valid(play, PlayMetadataSchema, catch_error=False)  \n",
    "    "
   ]
  },
  {
   "cell_type": "markdown",
   "id": "083ddce6",
   "metadata": {},
   "source": [
    "OK, all valid... to test, change the cell above back from markdown to code"
   ]
  },
  {
   "cell_type": "markdown",
   "id": "a165e1a5",
   "metadata": {},
   "source": [
    "## /corpora/{corpusname}/play/{playname}"
   ]
  },
  {
   "cell_type": "code",
   "execution_count": 24,
   "id": "527b9c2b",
   "metadata": {},
   "outputs": [],
   "source": [
    "from dracor_api_response_schemas import PlaySchema"
   ]
  },
  {
   "cell_type": "code",
   "execution_count": 25,
   "id": "1467dc28",
   "metadata": {},
   "outputs": [],
   "source": [
    "def validate_play(corpusname: str = None, playname:str = None, catch_error = True):\n",
    "    data = get(corpusname=corpusname, playname=playname,parse_json=True)\n",
    "    return is_valid(data, PlaySchema, catch_error=catch_error) \n",
    "    "
   ]
  },
  {
   "cell_type": "code",
   "execution_count": 26,
   "id": "6a185054",
   "metadata": {},
   "outputs": [],
   "source": [
    "#validate_play(corpusname=\"ger\", playname=\"lessing-emilia-galotti\")"
   ]
  },
  {
   "cell_type": "code",
   "execution_count": 27,
   "id": "13dc7c7d",
   "metadata": {},
   "outputs": [],
   "source": [
    "corpusnames_no_cal = corpusnames\n",
    "corpusnames_no_cal.remove(\"cal\")"
   ]
  },
  {
   "cell_type": "markdown",
   "id": "01421daa",
   "metadata": {},
   "source": [
    "for corpusname in corpusnames_no_cal:\n",
    "    #print(corpusname)\n",
    "    plays = get(corpusname=corpusname,parse_json=True)[\"dramas\"]\n",
    "    playnames = []\n",
    "    for play in plays:\n",
    "        playnames.append(play[\"name\"])\n",
    "    #print(playnames)\n",
    "    \n",
    "    for playname in playnames:\n",
    "        print(f\"Validating {corpusname} – {playname}.\")\n",
    "        validate_play(corpusname=corpusname, playname=playname, catch_error=False)"
   ]
  },
  {
   "cell_type": "markdown",
   "id": "348d24e1",
   "metadata": {},
   "source": [
    "# do it separately..\n",
    "# UNKWON ... stop at first stupid error\n",
    "for corpusname in [\"hun\"]:\n",
    "    #print(corpusname)\n",
    "    plays = get(corpusname=corpusname,parse_json=True)[\"dramas\"]\n",
    "    playnames = []\n",
    "    for play in plays:\n",
    "        playnames.append(play[\"name\"])\n",
    "    #print(playnames)\n",
    "    \n",
    "    for playname in playnames:\n",
    "        print(f\"Validating {corpusname} – {playname}.\")\n",
    "        validate_play(corpusname=corpusname, playname=playname, catch_error=False)"
   ]
  },
  {
   "cell_type": "markdown",
   "id": "3da39e12",
   "metadata": {},
   "source": [
    "for corpusname in [\"ita\"]:\n",
    "    #print(corpusname)\n",
    "    plays = get(corpusname=corpusname,parse_json=True)[\"dramas\"]\n",
    "    playnames = []\n",
    "    for play in plays:\n",
    "        playnames.append(play[\"name\"])\n",
    "    #print(playnames)\n",
    "    \n",
    "    for playname in playnames:\n",
    "        print(f\"Validating {corpusname} – {playname}.\")\n",
    "        validate_play(corpusname=corpusname, playname=playname, catch_error=False)"
   ]
  },
  {
   "cell_type": "markdown",
   "id": "7f8d9d73",
   "metadata": {},
   "source": [
    "for corpusname in [\"rom\"]:\n",
    "    #print(corpusname)\n",
    "    plays = get(corpusname=corpusname,parse_json=True)[\"dramas\"]\n",
    "    playnames = []\n",
    "    for play in plays:\n",
    "        playnames.append(play[\"name\"])\n",
    "    #print(playnames)\n",
    "    \n",
    "    for playname in playnames:\n",
    "        print(f\"Validating {corpusname} – {playname}.\")\n",
    "        validate_play(corpusname=corpusname, playname=playname, catch_error=False)"
   ]
  },
  {
   "cell_type": "markdown",
   "id": "62dde624",
   "metadata": {},
   "source": [
    "for corpusname in [\"rus\"]:\n",
    "    #print(corpusname)\n",
    "    plays = get(corpusname=corpusname,parse_json=True)[\"dramas\"]\n",
    "    playnames = []\n",
    "    for play in plays:\n",
    "        playnames.append(play[\"name\"])\n",
    "    #print(playnames)\n",
    "    \n",
    "    for playname in playnames:\n",
    "        print(f\"Validating {corpusname} – {playname}.\")\n",
    "        validate_play(corpusname=corpusname, playname=playname, catch_error=False)"
   ]
  },
  {
   "cell_type": "markdown",
   "id": "26a07f90",
   "metadata": {},
   "source": [
    "\"\"\"    {\n",
    "      \"id\": \"Demetrius_MND\",\n",
    "      \"name\": \"Demetrius\",\n",
    "      \"isGroup\": false,\n",
    "      \"sex\": \"MAE\"\n",
    "    },\n",
    "\n",
    "\"\"\"\n",
    "for corpusname in [\"shake\"]:\n",
    "    #print(corpusname)\n",
    "    plays = get(corpusname=corpusname,parse_json=True)[\"dramas\"]\n",
    "    playnames = []\n",
    "    for play in plays:\n",
    "        playnames.append(play[\"name\"])\n",
    "    #print(playnames)\n",
    "    \n",
    "    for playname in playnames:\n",
    "        print(f\"Validating {corpusname} – {playname}.\")\n",
    "        validate_play(corpusname=corpusname, playname=playname, catch_error=False)"
   ]
  },
  {
   "cell_type": "markdown",
   "id": "c21decaa",
   "metadata": {},
   "source": [
    "for corpusname in [\"span\"]:\n",
    "    #print(corpusname)\n",
    "    plays = get(corpusname=corpusname,parse_json=True)[\"dramas\"]\n",
    "    playnames = []\n",
    "    for play in plays:\n",
    "        playnames.append(play[\"name\"])\n",
    "    #print(playnames)\n",
    "    \n",
    "    for playname in playnames:\n",
    "        print(f\"Validating {corpusname} – {playname}.\")\n",
    "        validate_play(corpusname=corpusname, playname=playname, catch_error=False)"
   ]
  },
  {
   "cell_type": "markdown",
   "id": "f4640760",
   "metadata": {},
   "source": [
    "for corpusname in [\"swe\",\"tat\"]:\n",
    "    #print(corpusname)\n",
    "    plays = get(corpusname=corpusname,parse_json=True)[\"dramas\"]\n",
    "    playnames = []\n",
    "    for play in plays:\n",
    "        playnames.append(play[\"name\"])\n",
    "    #print(playnames)\n",
    "    \n",
    "    for playname in playnames:\n",
    "        print(f\"Validating {corpusname} – {playname}.\")\n",
    "        validate_play(corpusname=corpusname, playname=playname, catch_error=False)"
   ]
  },
  {
   "cell_type": "markdown",
   "id": "191d752c",
   "metadata": {},
   "source": [
    "for corpusname in [\"tat\"]:\n",
    "    #print(corpusname)\n",
    "    plays = get(corpusname=corpusname,parse_json=True)[\"dramas\"]\n",
    "    playnames = []\n",
    "    for play in plays:\n",
    "        playnames.append(play[\"name\"])\n",
    "    #print(playnames)\n",
    "    \n",
    "    for playname in playnames:\n",
    "        print(f\"Validating {corpusname} – {playname}.\")\n",
    "        validate_play(corpusname=corpusname, playname=playname, catch_error=False)"
   ]
  },
  {
   "cell_type": "markdown",
   "id": "ad5a4cbf",
   "metadata": {},
   "source": [
    "## /corpora/{corpusname}/play/{playname}/metrics"
   ]
  },
  {
   "cell_type": "code",
   "execution_count": 28,
   "id": "62354b80",
   "metadata": {},
   "outputs": [],
   "source": [
    "from dracor_api_response_schemas import PlayMetricsSchema"
   ]
  },
  {
   "cell_type": "code",
   "execution_count": 29,
   "id": "21934401",
   "metadata": {},
   "outputs": [],
   "source": [
    "def validate_play_metrics(corpusname: str = None, playname:str = None, catch_error = True):\n",
    "    data = get(corpusname=corpusname, method=\"metrics\", playname=playname,parse_json=True)\n",
    "    return is_valid(data, PlayMetricsSchema, catch_error=catch_error) "
   ]
  },
  {
   "cell_type": "code",
   "execution_count": 30,
   "id": "066e9768",
   "metadata": {},
   "outputs": [
    {
     "name": "stderr",
     "output_type": "stream",
     "text": [
      "INFO:root:Validation passed.\n"
     ]
    },
    {
     "data": {
      "text/plain": [
       "True"
      ]
     },
     "execution_count": 30,
     "metadata": {},
     "output_type": "execute_result"
    }
   ],
   "source": [
    "validate_play_metrics(corpusname=\"ger\", playname=\"lessing-emilia-galotti\")"
   ]
  },
  {
   "cell_type": "markdown",
   "id": "96e6ae51",
   "metadata": {},
   "source": [
    "for corpusname in [\"ger\"]:\n",
    "    #print(corpusname)\n",
    "    plays = get(corpusname=corpusname,parse_json=True)[\"dramas\"]\n",
    "    playnames = []\n",
    "    for play in plays:\n",
    "        playnames.append(play[\"name\"])\n",
    "    #print(playnames)\n",
    "    \n",
    "    for playname in playnames:\n",
    "        print(f\"Validating {corpusname} – {playname}.\")\n",
    "        validate_play_metrics(corpusname=corpusname, playname=playname, catch_error=False)"
   ]
  },
  {
   "cell_type": "markdown",
   "id": "65939d60",
   "metadata": {},
   "source": [
    "for corpusname in corpusnames_no_cal:\n",
    "    #print(corpusname)\n",
    "    plays = get(corpusname=corpusname,parse_json=True)[\"dramas\"]\n",
    "    playnames = []\n",
    "    for play in plays:\n",
    "        playnames.append(play[\"name\"])\n",
    "    #print(playnames)\n",
    "    \n",
    "    for playname in playnames:\n",
    "        print(f\"Validating {corpusname} – {playname}.\")\n",
    "        validate_play_metrics(corpusname=corpusname, playname=playname, catch_error=False)"
   ]
  },
  {
   "cell_type": "markdown",
   "id": "bc8caa2c",
   "metadata": {},
   "source": [
    "## /corpora/{corpusname}/play/{playname}/cast"
   ]
  },
  {
   "cell_type": "code",
   "execution_count": 31,
   "id": "9a20089d",
   "metadata": {},
   "outputs": [],
   "source": [
    "from dracor_api_response_schemas import CastItemSchema"
   ]
  },
  {
   "cell_type": "code",
   "execution_count": 32,
   "id": "e0563310",
   "metadata": {},
   "outputs": [],
   "source": [
    "def validate_cast_items(corpusname: str = None, playname:str = None, catch_error = False):\n",
    "    data = get(corpusname=corpusname, method=\"cast\", playname=playname,parse_json=True)\n",
    "    valid_flag = True\n",
    "    for item in data:\n",
    "        if is_valid(item, CastItemSchema, catch_error=catch_error) == False:\n",
    "            valid_flag = False\n",
    "            print(f\"Error in {item['id']}\")\n",
    "    return valid_flag\n",
    "        "
   ]
  },
  {
   "cell_type": "code",
   "execution_count": 33,
   "id": "a6cbe266",
   "metadata": {},
   "outputs": [
    {
     "data": {
      "text/plain": [
       "True"
      ]
     },
     "execution_count": 33,
     "metadata": {},
     "output_type": "execute_result"
    }
   ],
   "source": [
    "validate_cast_items(corpusname=\"ger\", playname=\"lessing-emilia-galotti\")"
   ]
  },
  {
   "cell_type": "markdown",
   "id": "fc3b2b94",
   "metadata": {},
   "source": [
    "for corpusname in corpusnames:\n",
    "    #print(corpusname)\n",
    "    plays = get(corpusname=corpusname,parse_json=True)[\"dramas\"]\n",
    "    playnames = []\n",
    "    for play in plays:\n",
    "        playnames.append(play[\"name\"])\n",
    "    #print(playnames)\n",
    "    \n",
    "    for playname in playnames:\n",
    "        print(f\"Validating {corpusname} – {playname}.\")\n",
    "        validate_cast_items(corpusname=corpusname, playname=playname, catch_error=False)"
   ]
  },
  {
   "cell_type": "markdown",
   "id": "28ca9144",
   "metadata": {},
   "source": [
    "for corpusname in [\"cal\"]:\n",
    "    #print(corpusname)\n",
    "    plays = get(corpusname=corpusname,parse_json=True)[\"dramas\"]\n",
    "    playnames = []\n",
    "    for play in plays:\n",
    "        playnames.append(play[\"name\"])\n",
    "    #print(playnames)\n",
    "    \n",
    "    for playname in playnames:\n",
    "        print(f\"Validating {corpusname} – {playname}.\")\n",
    "        validate_cast_items(corpusname=corpusname, playname=playname, catch_error=False)"
   ]
  },
  {
   "cell_type": "markdown",
   "id": "4455e9dd",
   "metadata": {},
   "source": [
    "for corpusname in [\"ger\",\"rus\"]:\n",
    "    #print(corpusname)\n",
    "    plays = get(corpusname=corpusname,parse_json=True)[\"dramas\"]\n",
    "    playnames = []\n",
    "    for play in plays:\n",
    "        playnames.append(play[\"name\"])\n",
    "    #print(playnames)\n",
    "    \n",
    "    for playname in playnames:\n",
    "        print(f\"Validating {corpusname} – {playname}.\")\n",
    "        validate_cast_items(corpusname=corpusname, playname=playname, catch_error=False)"
   ]
  },
  {
   "cell_type": "markdown",
   "id": "19a64139",
   "metadata": {},
   "source": [
    "for corpusname in [\"rus\"]:\n",
    "    #print(corpusname)\n",
    "    plays = get(corpusname=corpusname,parse_json=True)[\"dramas\"]\n",
    "    playnames = []\n",
    "    for play in plays:\n",
    "        playnames.append(play[\"name\"])\n",
    "    #print(playnames)\n",
    "    \n",
    "    for playname in playnames:\n",
    "        print(f\"Validating {corpusname} – {playname}.\")\n",
    "        validate_cast_items(corpusname=corpusname, playname=playname, catch_error=False)"
   ]
  },
  {
   "cell_type": "markdown",
   "id": "cbe6bc83",
   "metadata": {},
   "source": [
    "for corpusname in [\"greek\", \"rom\", \"ita\", \"span\"]:\n",
    "    #print(corpusname)\n",
    "    plays = get(corpusname=corpusname,parse_json=True)[\"dramas\"]\n",
    "    playnames = []\n",
    "    for play in plays:\n",
    "        playnames.append(play[\"name\"])\n",
    "    #print(playnames)\n",
    "    \n",
    "    for playname in playnames:\n",
    "        print(f\"Validating {corpusname} – {playname}.\")\n",
    "        validate_cast_items(corpusname=corpusname, playname=playname, catch_error=False)"
   ]
  },
  {
   "cell_type": "markdown",
   "id": "cef930cf",
   "metadata": {},
   "source": [
    "for corpusname in [\"ita\", \"span\"]:\n",
    "    #print(corpusname)\n",
    "    plays = get(corpusname=corpusname,parse_json=True)[\"dramas\"]\n",
    "    playnames = []\n",
    "    for play in plays:\n",
    "        playnames.append(play[\"name\"])\n",
    "    #print(playnames)\n",
    "    \n",
    "    for playname in playnames:\n",
    "        print(f\"Validating {corpusname} – {playname}.\")\n",
    "        validate_cast_items(corpusname=corpusname, playname=playname, catch_error=False)"
   ]
  },
  {
   "cell_type": "markdown",
   "id": "16edf008",
   "metadata": {},
   "source": [
    "for corpusname in [\"shake\"]:\n",
    "    #print(corpusname)\n",
    "    plays = get(corpusname=corpusname,parse_json=True)[\"dramas\"]\n",
    "    playnames = []\n",
    "    for play in plays:\n",
    "        playnames.append(play[\"name\"])\n",
    "    #print(playnames)\n",
    "    \n",
    "    for playname in playnames:\n",
    "        print(f\"Validating {corpusname} – {playname}.\")\n",
    "        validate_cast_items(corpusname=corpusname, playname=playname, catch_error=False)"
   ]
  },
  {
   "cell_type": "code",
   "execution_count": 37,
   "id": "384a7dc9",
   "metadata": {},
   "outputs": [
    {
     "name": "stdout",
     "output_type": "stream",
     "text": [
      "Validating gersh – antonius-und-cleopatra.\n",
      "Validating gersh – coriolanus.\n",
      "Validating gersh – cymbeline.\n",
      "Validating gersh – das-wintermaerchen.\n",
      "Validating gersh – der-kaufmann-von-venedig.\n",
      "Validating gersh – der-sturm.\n",
      "Validating gersh – der-widerspenstigen-zaehmung.\n",
      "Validating gersh – die-beiden-edlen-vettern.\n",
      "Validating gersh – die-beiden-veroneser.\n",
      "Validating gersh – die-komoedie-der-irrungen.\n",
      "Validating gersh – die-lustigen-weiber-von-windsor.\n",
      "Validating gersh – ein-sommernachtstraum.\n",
      "Validating gersh – ende-gut-alles-gut.\n",
      "Validating gersh – hamlet-prinz-von-daenemark.\n",
      "Validating gersh – julius-caesar.\n",
      "Validating gersh – koenig-heinrich-4-teil-1.\n",
      "Validating gersh – koenig-heinrich-4-teil-2.\n",
      "Validating gersh – koenig-heinrich-5.\n",
      "Validating gersh – koenig-heinrich-6-teil-1.\n",
      "Validating gersh – koenig-heinrich-6-teil-2.\n",
      "Validating gersh – koenig-heinrich-6-teil-3.\n",
      "Validating gersh – koenig-heinrich-8.\n",
      "Validating gersh – koenig-johann.\n",
      "Validating gersh – koenig-lear.\n",
      "Validating gersh – koenig-richard-2.\n",
      "Validating gersh – koenig-richard-3.\n",
      "Validating gersh – liebes-leid-und-lust.\n",
      "Validating gersh – macbeth.\n",
      "Validating gersh – mass-fuer-mass.\n",
      "Validating gersh – othello.\n",
      "Validating gersh – perikles-fuerst-von-tyrus.\n",
      "Validating gersh – romeo-und-julia.\n",
      "Validating gersh – timon-von-athen.\n",
      "Validating gersh – titus-andronicus.\n",
      "Validating gersh – troilus-und-cressida.\n",
      "Validating gersh – viel-laermen-um-nichts.\n",
      "Validating gersh – was-ihr-wollt.\n",
      "Validating gersh – wie-es-euch-gefaellt.\n"
     ]
    }
   ],
   "source": [
    "for corpusname in [\"gersh\"]:\n",
    "    #print(corpusname)\n",
    "    plays = get(corpusname=corpusname,parse_json=True)[\"dramas\"]\n",
    "    playnames = []\n",
    "    for play in plays:\n",
    "        playnames.append(play[\"name\"])\n",
    "    #print(playnames)\n",
    "    \n",
    "    for playname in playnames:\n",
    "        print(f\"Validating {corpusname} – {playname}.\")\n",
    "        validate_cast_items(corpusname=corpusname, playname=playname, catch_error=False)"
   ]
  },
  {
   "cell_type": "code",
   "execution_count": null,
   "id": "f9ad504b",
   "metadata": {},
   "outputs": [],
   "source": []
  }
 ],
 "metadata": {
  "kernelspec": {
   "display_name": "Python 3 (ipykernel)",
   "language": "python",
   "name": "python3"
  },
  "language_info": {
   "codemirror_mode": {
    "name": "ipython",
    "version": 3
   },
   "file_extension": ".py",
   "mimetype": "text/x-python",
   "name": "python",
   "nbconvert_exporter": "python",
   "pygments_lexer": "ipython3",
   "version": "3.9.12"
  }
 },
 "nbformat": 4,
 "nbformat_minor": 5
}
